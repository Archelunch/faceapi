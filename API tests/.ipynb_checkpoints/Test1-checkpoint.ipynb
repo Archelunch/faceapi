{
 "cells": [
  {
   "cell_type": "code",
   "execution_count": 1,
   "metadata": {
    "collapsed": false
   },
   "outputs": [],
   "source": [
    "import urllib3\n",
    "import requests\n",
    "from requests.auth import HTTPBasicAuth\n",
    "import numpy as np\n",
    "import cv2\n",
    "from skimage import io"
   ]
  },
  {
   "cell_type": "code",
   "execution_count": 42,
   "metadata": {
    "collapsed": false
   },
   "outputs": [],
   "source": [
    "r = requests.post('http://127.0.0.1:5000/api/register', data={'username':'admin'})"
   ]
  },
  {
   "cell_type": "code",
   "execution_count": 43,
   "metadata": {
    "collapsed": false
   },
   "outputs": [
    {
     "data": {
      "text/plain": [
       "{'error_msg': 'This username already exists', 'result': False}"
      ]
     },
     "execution_count": 43,
     "metadata": {},
     "output_type": "execute_result"
    }
   ],
   "source": [
    "r.json()"
   ]
  },
  {
   "cell_type": "code",
   "execution_count": 7,
   "metadata": {
    "collapsed": true
   },
   "outputs": [],
   "source": [
    "r = requests.post('http://127.0.0.1:5000/api/register', data={'username':'testing'})"
   ]
  },
  {
   "cell_type": "code",
   "execution_count": 45,
   "metadata": {
    "collapsed": false
   },
   "outputs": [
    {
     "data": {
      "text/plain": [
       "{'datasets': [],\n",
       " 'password': 'krd++#)79i4-+wzch9&2$f*ub5dzzt8)w)ju%b)(5xz13c55wm',\n",
       " 'result': True,\n",
       " 'username': 'testing'}"
      ]
     },
     "execution_count": 45,
     "metadata": {},
     "output_type": "execute_result"
    }
   ],
   "source": [
    "r.json()"
   ]
  },
  {
   "cell_type": "code",
   "execution_count": 47,
   "metadata": {
    "collapsed": true
   },
   "outputs": [],
   "source": [
    "r = requests.post('http://127.0.0.1:5000/api/facetovec', files=files)"
   ]
  },
  {
   "cell_type": "code",
   "execution_count": 49,
   "metadata": {
    "collapsed": false
   },
   "outputs": [
    {
     "data": {
      "text/plain": [
       "{'error': 'Unauthorized access'}"
      ]
     },
     "execution_count": 49,
     "metadata": {},
     "output_type": "execute_result"
    }
   ],
   "source": [
    "r.json()"
   ]
  },
  {
   "cell_type": "code",
   "execution_count": 97,
   "metadata": {
    "collapsed": false
   },
   "outputs": [],
   "source": [
    "r = requests.post('http://127.0.0.1:5000/api/facetovec', files=files, auth=HTTPBasicAuth('testing', 'krd++#)79i4-+wzch9&2$f*ub5dzzt8)w)ju%b)(5xz13c55wm'))"
   ]
  },
  {
   "cell_type": "code",
   "execution_count": 98,
   "metadata": {
    "collapsed": false
   },
   "outputs": [
    {
     "data": {
      "text/plain": [
       "{'descs': [-0.1268075704574585,\n",
       "  0.1323411762714386,\n",
       "  -0.0031756237149238586,\n",
       "  -0.029802531003952026,\n",
       "  -0.07856611162424088,\n",
       "  -0.07555349171161652,\n",
       "  0.028053509071469307,\n",
       "  -0.052026357501745224,\n",
       "  0.08770127594470978,\n",
       "  -0.009580164216458797,\n",
       "  0.2331807017326355,\n",
       "  -0.17789584398269653,\n",
       "  -0.21954959630966187,\n",
       "  -0.05769961327314377,\n",
       "  -0.1020016223192215,\n",
       "  0.11629253625869751,\n",
       "  -0.20610012114048004,\n",
       "  -0.11318773776292801,\n",
       "  -0.113057941198349,\n",
       "  -0.09355364739894867,\n",
       "  0.06375563144683838,\n",
       "  6.500817835330963e-05,\n",
       "  0.024312229827046394,\n",
       "  0.04880797863006592,\n",
       "  -0.16556315124034882,\n",
       "  -0.2832798957824707,\n",
       "  -0.025582771748304367,\n",
       "  -0.16643285751342773,\n",
       "  0.08083325624465942,\n",
       "  -0.08028111606836319,\n",
       "  0.0256199948489666,\n",
       "  0.11369642615318298,\n",
       "  -0.19214551150798798,\n",
       "  -0.06998804956674576,\n",
       "  0.02832311950623989,\n",
       "  -0.031106317415833473,\n",
       "  -0.047866109758615494,\n",
       "  -0.012516075745224953,\n",
       "  0.22835490107536316,\n",
       "  -0.0544203519821167,\n",
       "  -0.17446520924568176,\n",
       "  -0.026906773447990417,\n",
       "  0.10694396495819092,\n",
       "  0.295947402715683,\n",
       "  0.18438196182250977,\n",
       "  0.03245662897825241,\n",
       "  -0.01950690522789955,\n",
       "  -0.13021579384803772,\n",
       "  0.06358476728200912,\n",
       "  -0.23306843638420105,\n",
       "  0.08895190805196762,\n",
       "  0.24687756597995758,\n",
       "  0.057852134108543396,\n",
       "  0.1147901713848114,\n",
       "  0.11432189494371414,\n",
       "  -0.054101601243019104,\n",
       "  0.0875454694032669,\n",
       "  0.14455440640449524,\n",
       "  -0.16919416189193726,\n",
       "  0.031918447464704514,\n",
       "  0.12856723368167877,\n",
       "  0.026222186163067818,\n",
       "  0.019263925030827522,\n",
       "  -0.09840597957372665,\n",
       "  0.09870686382055283,\n",
       "  -0.009888654574751854,\n",
       "  -0.049614258110523224,\n",
       "  -0.10571727156639099,\n",
       "  0.11091604828834534,\n",
       "  -0.1772005558013916,\n",
       "  -0.060523949563503265,\n",
       "  0.11865197867155075,\n",
       "  -0.07115673273801804,\n",
       "  -0.23763974010944366,\n",
       "  -0.30998727679252625,\n",
       "  0.05001920089125633,\n",
       "  0.3082226812839508,\n",
       "  0.2645278573036194,\n",
       "  -0.06332719326019287,\n",
       "  0.07388684153556824,\n",
       "  -0.020394958555698395,\n",
       "  -0.0929330587387085,\n",
       "  0.1449061632156372,\n",
       "  0.007839278317987919,\n",
       "  -0.14521926641464233,\n",
       "  -0.061304349452257156,\n",
       "  -0.05732239782810211,\n",
       "  0.0798465684056282,\n",
       "  0.13907358050346375,\n",
       "  -0.023769019171595573,\n",
       "  -0.008400505408644676,\n",
       "  0.1909826695919037,\n",
       "  -0.011380136013031006,\n",
       "  -0.10467154532670975,\n",
       "  -0.007738403044641018,\n",
       "  0.019015373662114143,\n",
       "  -0.1032714769244194,\n",
       "  0.05861155316233635,\n",
       "  -0.09903264790773392,\n",
       "  0.045204631984233856,\n",
       "  0.0613340325653553,\n",
       "  -0.07081712782382965,\n",
       "  -0.020247802138328552,\n",
       "  0.0996449813246727,\n",
       "  -0.18443039059638977,\n",
       "  0.04565323889255524,\n",
       "  -0.03492382541298866,\n",
       "  -0.042535461485385895,\n",
       "  -0.07487912476062775,\n",
       "  -0.05253618210554123,\n",
       "  -0.061474092304706573,\n",
       "  0.008329574950039387,\n",
       "  0.11504831910133362,\n",
       "  -0.2116798460483551,\n",
       "  0.16799166798591614,\n",
       "  0.161089688539505,\n",
       "  0.0475403368473053,\n",
       "  0.08917472511529922,\n",
       "  0.10851708799600601,\n",
       "  -0.005689792335033417,\n",
       "  0.009901683777570724,\n",
       "  -0.071323461830616,\n",
       "  -0.16639941930770874,\n",
       "  -0.053941890597343445,\n",
       "  0.13342781364917755,\n",
       "  -0.013599183410406113,\n",
       "  0.022823980078101158,\n",
       "  -0.007292445749044418],\n",
       " 'result': True}"
      ]
     },
     "execution_count": 98,
     "metadata": {},
     "output_type": "execute_result"
    }
   ],
   "source": [
    "r.json()"
   ]
  },
  {
   "cell_type": "code",
   "execution_count": 90,
   "metadata": {
    "collapsed": false
   },
   "outputs": [],
   "source": [
    "files = {'img': open('img.png', 'rb').read()}"
   ]
  },
  {
   "cell_type": "code",
   "execution_count": 4,
   "metadata": {
    "collapsed": true
   },
   "outputs": [],
   "source": [
    "r = requests.get('http://127.0.0.1:5000/api/download/testing/img.jpg', auth=HTTPBasicAuth('testing', 'krd++#)79i4-+wzch9&2$f*ub5dzzt8)w)ju%b)(5xz13c55wm'))"
   ]
  },
  {
   "cell_type": "code",
   "execution_count": 5,
   "metadata": {
    "collapsed": false
   },
   "outputs": [
    {
     "data": {
      "text/plain": [
       "{'error': 'Not found'}"
      ]
     },
     "execution_count": 5,
     "metadata": {},
     "output_type": "execute_result"
    }
   ],
   "source": [
    "r.json()"
   ]
  }
 ],
 "metadata": {
  "kernelspec": {
   "display_name": "Python 3",
   "language": "python",
   "name": "python3"
  },
  "language_info": {
   "codemirror_mode": {
    "name": "ipython",
    "version": 3
   },
   "file_extension": ".py",
   "mimetype": "text/x-python",
   "name": "python",
   "nbconvert_exporter": "python",
   "pygments_lexer": "ipython3",
   "version": "3.6.0"
  }
 },
 "nbformat": 4,
 "nbformat_minor": 2
}
